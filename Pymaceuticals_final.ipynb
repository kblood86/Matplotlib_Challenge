{
 "cells": [
  {
   "cell_type": "markdown",
   "metadata": {},
   "source": [
    "## Observations and Insights "
   ]
  },
  {
   "cell_type": "markdown",
   "metadata": {},
   "source": [
    "When refering to the box and whisker plot that maps the average tumor size at the final time point, both Capomulin and Ramicane tend to have smaller tumor sizes. This suggests that out of the four most promising regimens, these are the two with the best results. \n",
    "\n",
    "Also looking at the box and whisker plot, Ceftamin has the largest dispersion. This shows the regimen has a much wider range of results in terms of final tumor volume.\n",
    "\n",
    "The distribution of sex has a very small difference - under 2%. This suggests that the sex of the mouse does not influence the results of the regemins and may not be an important variable.\n",
    "\n",
    "In the final scatter plot, the r-squared value suggests a strong correlation between the final tumor measurment and the average mouse size. This could mean that prediction of a final tumor volume could be possible when given the average mouse weight. \n",
    "\n"
   ]
  },
  {
   "cell_type": "code",
   "execution_count": 1,
   "metadata": {},
   "outputs": [],
   "source": [
    "# Dependencies and Setup\n",
    "import matplotlib.pyplot as plt\n",
    "import pandas as pd\n",
    "import scipy.stats as st\n",
    "import numpy as np"
   ]
  },
  {
   "cell_type": "code",
   "execution_count": 2,
   "metadata": {},
   "outputs": [],
   "source": [
    "# Study data files\n",
    "mouse_metadata_path = \"data/Mouse_metadata.csv\"\n",
    "study_results_path = \"data/Study_results.csv\""
   ]
  },
  {
   "cell_type": "code",
   "execution_count": 3,
   "metadata": {},
   "outputs": [],
   "source": [
    "# Read the mouse data and the study results\n",
    "mouse_metadata = pd.read_csv(mouse_metadata_path)\n",
    "study_results = pd.read_csv(study_results_path)\n",
    "\n",
    "#mouse_metadata"
   ]
  },
  {
   "cell_type": "code",
   "execution_count": 4,
   "metadata": {},
   "outputs": [],
   "source": [
    "#study_results"
   ]
  },
  {
   "cell_type": "code",
   "execution_count": 5,
   "metadata": {},
   "outputs": [],
   "source": [
    "# Combine the data into a single dataset\n",
    "mouse_study = pd.merge(mouse_metadata, study_results, on = \"Mouse ID\", how = \"outer\")\n",
    "#mouse_study"
   ]
  },
  {
   "cell_type": "code",
   "execution_count": 6,
   "metadata": {},
   "outputs": [],
   "source": [
    "# Checking the number of mice.\n",
    "#mouse_study.count()\n"
   ]
  },
  {
   "cell_type": "code",
   "execution_count": 7,
   "metadata": {},
   "outputs": [],
   "source": [
    "# Create a clean DataFrame by dropping the duplicate mouse by its ID.\n",
    "mouse_cleaned = mouse_study.drop_duplicates(['Mouse ID', 'Timepoint'], keep=\"last\")\n",
    "#mouse_cleaned\n"
   ]
  },
  {
   "cell_type": "code",
   "execution_count": 8,
   "metadata": {},
   "outputs": [],
   "source": [
    "# Checking the number of mice in the clean DataFrame.\n",
    "#mouse_cleaned.value_counts('Mouse ID')"
   ]
  },
  {
   "cell_type": "code",
   "execution_count": 9,
   "metadata": {},
   "outputs": [],
   "source": [
    "## Summary Statistics"
   ]
  },
  {
   "cell_type": "code",
   "execution_count": 10,
   "metadata": {},
   "outputs": [],
   "source": [
    "#Generate a summary statistics table of mean, median, variance, standard deviation, and SEM of the tumor volume for each regimen\n",
    "\n",
    "# Use groupby and summary statistical methods to calculate the following properties of each drug regimen: \n",
    "# mean, median, variance, standard deviation, and SEM of the tumor volume. \n",
    "# Assemble the resulting series into a single summary dataframe.\n",
    "\n",
    "drug_avg = mouse_cleaned.groupby(['Drug Regimen']).mean()['Tumor Volume (mm3)']\n",
    "\n",
    "#drug_avg\n"
   ]
  },
  {
   "cell_type": "code",
   "execution_count": 11,
   "metadata": {},
   "outputs": [],
   "source": [
    "regimen_groups = mouse_cleaned.groupby('Drug Regimen')"
   ]
  },
  {
   "cell_type": "code",
   "execution_count": 12,
   "metadata": {},
   "outputs": [],
   "source": [
    "regimen_median = regimen_groups['Tumor Volume (mm3)'].median()\n",
    "#regimen_median"
   ]
  },
  {
   "cell_type": "code",
   "execution_count": 13,
   "metadata": {},
   "outputs": [],
   "source": [
    "\n",
    "regimen_var = regimen_groups['Tumor Volume (mm3)'].var()\n",
    "#regimen_var\n"
   ]
  },
  {
   "cell_type": "code",
   "execution_count": 14,
   "metadata": {},
   "outputs": [],
   "source": [
    "regimen_std = regimen_groups['Tumor Volume (mm3)'].std()\n",
    "#regimen_std"
   ]
  },
  {
   "cell_type": "code",
   "execution_count": 15,
   "metadata": {},
   "outputs": [],
   "source": [
    "regimen_sem = regimen_groups['Tumor Volume (mm3)'].sem()\n",
    "#regimen_sem"
   ]
  },
  {
   "cell_type": "markdown",
   "metadata": {},
   "source": [
    "## Summary Statistics of Mice based on Drug Regimen"
   ]
  },
  {
   "cell_type": "code",
   "execution_count": 16,
   "metadata": {},
   "outputs": [
    {
     "data": {
      "text/html": [
       "<div>\n",
       "<style scoped>\n",
       "    .dataframe tbody tr th:only-of-type {\n",
       "        vertical-align: middle;\n",
       "    }\n",
       "\n",
       "    .dataframe tbody tr th {\n",
       "        vertical-align: top;\n",
       "    }\n",
       "\n",
       "    .dataframe thead th {\n",
       "        text-align: right;\n",
       "    }\n",
       "</style>\n",
       "<table border=\"1\" class=\"dataframe\">\n",
       "  <thead>\n",
       "    <tr style=\"text-align: right;\">\n",
       "      <th></th>\n",
       "      <th>Mean</th>\n",
       "      <th>Median</th>\n",
       "      <th>Variance</th>\n",
       "      <th>Standard Deviations</th>\n",
       "      <th>SEM</th>\n",
       "    </tr>\n",
       "    <tr>\n",
       "      <th>Drug Regimen</th>\n",
       "      <th></th>\n",
       "      <th></th>\n",
       "      <th></th>\n",
       "      <th></th>\n",
       "      <th></th>\n",
       "    </tr>\n",
       "  </thead>\n",
       "  <tbody>\n",
       "    <tr>\n",
       "      <th>Capomulin</th>\n",
       "      <td>40.675741</td>\n",
       "      <td>41.557809</td>\n",
       "      <td>24.947764</td>\n",
       "      <td>4.994774</td>\n",
       "      <td>0.329346</td>\n",
       "    </tr>\n",
       "    <tr>\n",
       "      <th>Ceftamin</th>\n",
       "      <td>52.591172</td>\n",
       "      <td>51.776157</td>\n",
       "      <td>39.290177</td>\n",
       "      <td>6.268188</td>\n",
       "      <td>0.469821</td>\n",
       "    </tr>\n",
       "    <tr>\n",
       "      <th>Infubinol</th>\n",
       "      <td>52.884795</td>\n",
       "      <td>51.820584</td>\n",
       "      <td>43.128684</td>\n",
       "      <td>6.567243</td>\n",
       "      <td>0.492236</td>\n",
       "    </tr>\n",
       "    <tr>\n",
       "      <th>Ketapril</th>\n",
       "      <td>55.235638</td>\n",
       "      <td>53.698743</td>\n",
       "      <td>68.553577</td>\n",
       "      <td>8.279709</td>\n",
       "      <td>0.603860</td>\n",
       "    </tr>\n",
       "    <tr>\n",
       "      <th>Naftisol</th>\n",
       "      <td>54.331565</td>\n",
       "      <td>52.509285</td>\n",
       "      <td>66.173479</td>\n",
       "      <td>8.134708</td>\n",
       "      <td>0.596466</td>\n",
       "    </tr>\n",
       "    <tr>\n",
       "      <th>Placebo</th>\n",
       "      <td>54.033581</td>\n",
       "      <td>52.288934</td>\n",
       "      <td>61.168083</td>\n",
       "      <td>7.821003</td>\n",
       "      <td>0.581331</td>\n",
       "    </tr>\n",
       "    <tr>\n",
       "      <th>Propriva</th>\n",
       "      <td>52.382993</td>\n",
       "      <td>50.783528</td>\n",
       "      <td>43.220205</td>\n",
       "      <td>6.574208</td>\n",
       "      <td>0.526358</td>\n",
       "    </tr>\n",
       "    <tr>\n",
       "      <th>Ramicane</th>\n",
       "      <td>40.216745</td>\n",
       "      <td>40.673236</td>\n",
       "      <td>23.486704</td>\n",
       "      <td>4.846308</td>\n",
       "      <td>0.320955</td>\n",
       "    </tr>\n",
       "    <tr>\n",
       "      <th>Stelasyn</th>\n",
       "      <td>54.233149</td>\n",
       "      <td>52.431737</td>\n",
       "      <td>59.450562</td>\n",
       "      <td>7.710419</td>\n",
       "      <td>0.573111</td>\n",
       "    </tr>\n",
       "    <tr>\n",
       "      <th>Zoniferol</th>\n",
       "      <td>53.236507</td>\n",
       "      <td>51.818479</td>\n",
       "      <td>48.533355</td>\n",
       "      <td>6.966589</td>\n",
       "      <td>0.516398</td>\n",
       "    </tr>\n",
       "  </tbody>\n",
       "</table>\n",
       "</div>"
      ],
      "text/plain": [
       "                   Mean     Median   Variance  Standard Deviations       SEM\n",
       "Drug Regimen                                                                \n",
       "Capomulin     40.675741  41.557809  24.947764             4.994774  0.329346\n",
       "Ceftamin      52.591172  51.776157  39.290177             6.268188  0.469821\n",
       "Infubinol     52.884795  51.820584  43.128684             6.567243  0.492236\n",
       "Ketapril      55.235638  53.698743  68.553577             8.279709  0.603860\n",
       "Naftisol      54.331565  52.509285  66.173479             8.134708  0.596466\n",
       "Placebo       54.033581  52.288934  61.168083             7.821003  0.581331\n",
       "Propriva      52.382993  50.783528  43.220205             6.574208  0.526358\n",
       "Ramicane      40.216745  40.673236  23.486704             4.846308  0.320955\n",
       "Stelasyn      54.233149  52.431737  59.450562             7.710419  0.573111\n",
       "Zoniferol     53.236507  51.818479  48.533355             6.966589  0.516398"
      ]
     },
     "execution_count": 16,
     "metadata": {},
     "output_type": "execute_result"
    }
   ],
   "source": [
    "# Generate a summary statistics table of mean, median, variance, standard deviation, and SEM of the tumor volume for each regimen\n",
    "regimen_stats_df = pd.DataFrame ({\n",
    "    \"Mean\": drug_avg,\n",
    "    \"Median\": regimen_median,\n",
    "    \"Variance\": regimen_var,\n",
    "    \"Standard Deviations\": regimen_std,\n",
    "    \"SEM\": regimen_sem\n",
    "    \n",
    "    \n",
    "})\n",
    "regimen_stats_df"
   ]
  },
  {
   "cell_type": "markdown",
   "metadata": {},
   "source": [
    "## Summary Statistics of Mice based on Drug Regimen: Using Aggregation Technique\n"
   ]
  },
  {
   "cell_type": "code",
   "execution_count": 17,
   "metadata": {},
   "outputs": [
    {
     "data": {
      "text/html": [
       "<div>\n",
       "<style scoped>\n",
       "    .dataframe tbody tr th:only-of-type {\n",
       "        vertical-align: middle;\n",
       "    }\n",
       "\n",
       "    .dataframe tbody tr th {\n",
       "        vertical-align: top;\n",
       "    }\n",
       "\n",
       "    .dataframe thead th {\n",
       "        text-align: right;\n",
       "    }\n",
       "</style>\n",
       "<table border=\"1\" class=\"dataframe\">\n",
       "  <thead>\n",
       "    <tr style=\"text-align: right;\">\n",
       "      <th></th>\n",
       "      <th>mean</th>\n",
       "      <th>median</th>\n",
       "      <th>var</th>\n",
       "      <th>std</th>\n",
       "      <th>sem</th>\n",
       "    </tr>\n",
       "    <tr>\n",
       "      <th>Drug Regimen</th>\n",
       "      <th></th>\n",
       "      <th></th>\n",
       "      <th></th>\n",
       "      <th></th>\n",
       "      <th></th>\n",
       "    </tr>\n",
       "  </thead>\n",
       "  <tbody>\n",
       "    <tr>\n",
       "      <th>Capomulin</th>\n",
       "      <td>40.675741</td>\n",
       "      <td>41.557809</td>\n",
       "      <td>24.947764</td>\n",
       "      <td>4.994774</td>\n",
       "      <td>0.329346</td>\n",
       "    </tr>\n",
       "    <tr>\n",
       "      <th>Ceftamin</th>\n",
       "      <td>52.591172</td>\n",
       "      <td>51.776157</td>\n",
       "      <td>39.290177</td>\n",
       "      <td>6.268188</td>\n",
       "      <td>0.469821</td>\n",
       "    </tr>\n",
       "    <tr>\n",
       "      <th>Infubinol</th>\n",
       "      <td>52.884795</td>\n",
       "      <td>51.820584</td>\n",
       "      <td>43.128684</td>\n",
       "      <td>6.567243</td>\n",
       "      <td>0.492236</td>\n",
       "    </tr>\n",
       "    <tr>\n",
       "      <th>Ketapril</th>\n",
       "      <td>55.235638</td>\n",
       "      <td>53.698743</td>\n",
       "      <td>68.553577</td>\n",
       "      <td>8.279709</td>\n",
       "      <td>0.603860</td>\n",
       "    </tr>\n",
       "    <tr>\n",
       "      <th>Naftisol</th>\n",
       "      <td>54.331565</td>\n",
       "      <td>52.509285</td>\n",
       "      <td>66.173479</td>\n",
       "      <td>8.134708</td>\n",
       "      <td>0.596466</td>\n",
       "    </tr>\n",
       "    <tr>\n",
       "      <th>Placebo</th>\n",
       "      <td>54.033581</td>\n",
       "      <td>52.288934</td>\n",
       "      <td>61.168083</td>\n",
       "      <td>7.821003</td>\n",
       "      <td>0.581331</td>\n",
       "    </tr>\n",
       "    <tr>\n",
       "      <th>Propriva</th>\n",
       "      <td>52.382993</td>\n",
       "      <td>50.783528</td>\n",
       "      <td>43.220205</td>\n",
       "      <td>6.574208</td>\n",
       "      <td>0.526358</td>\n",
       "    </tr>\n",
       "    <tr>\n",
       "      <th>Ramicane</th>\n",
       "      <td>40.216745</td>\n",
       "      <td>40.673236</td>\n",
       "      <td>23.486704</td>\n",
       "      <td>4.846308</td>\n",
       "      <td>0.320955</td>\n",
       "    </tr>\n",
       "    <tr>\n",
       "      <th>Stelasyn</th>\n",
       "      <td>54.233149</td>\n",
       "      <td>52.431737</td>\n",
       "      <td>59.450562</td>\n",
       "      <td>7.710419</td>\n",
       "      <td>0.573111</td>\n",
       "    </tr>\n",
       "    <tr>\n",
       "      <th>Zoniferol</th>\n",
       "      <td>53.236507</td>\n",
       "      <td>51.818479</td>\n",
       "      <td>48.533355</td>\n",
       "      <td>6.966589</td>\n",
       "      <td>0.516398</td>\n",
       "    </tr>\n",
       "  </tbody>\n",
       "</table>\n",
       "</div>"
      ],
      "text/plain": [
       "                   mean     median        var       std       sem\n",
       "Drug Regimen                                                     \n",
       "Capomulin     40.675741  41.557809  24.947764  4.994774  0.329346\n",
       "Ceftamin      52.591172  51.776157  39.290177  6.268188  0.469821\n",
       "Infubinol     52.884795  51.820584  43.128684  6.567243  0.492236\n",
       "Ketapril      55.235638  53.698743  68.553577  8.279709  0.603860\n",
       "Naftisol      54.331565  52.509285  66.173479  8.134708  0.596466\n",
       "Placebo       54.033581  52.288934  61.168083  7.821003  0.581331\n",
       "Propriva      52.382993  50.783528  43.220205  6.574208  0.526358\n",
       "Ramicane      40.216745  40.673236  23.486704  4.846308  0.320955\n",
       "Stelasyn      54.233149  52.431737  59.450562  7.710419  0.573111\n",
       "Zoniferol     53.236507  51.818479  48.533355  6.966589  0.516398"
      ]
     },
     "execution_count": 17,
     "metadata": {},
     "output_type": "execute_result"
    }
   ],
   "source": [
    "# Using the aggregation method, produce the same summary statistics in a single line\n",
    "\n",
    "aggregation = mouse_cleaned.groupby('Drug Regimen')\n",
    "regimen_stats_agg = aggregation.agg(['mean','median','var','std','sem'])[\"Tumor Volume (mm3)\"]\n",
    "regimen_stats_agg"
   ]
  },
  {
   "cell_type": "code",
   "execution_count": 18,
   "metadata": {},
   "outputs": [],
   "source": [
    "# Generate a bar plot showing the total number of measurements taken on each drug regimen using pandas.\n",
    "\n",
    "count_regimen =mouse_cleaned.groupby(['Drug Regimen']).count()[\"Mouse ID\"]\n",
    "#count_regimen"
   ]
  },
  {
   "cell_type": "markdown",
   "metadata": {},
   "source": [
    "## Measurements For Each Drug Regimen: Pandas"
   ]
  },
  {
   "cell_type": "code",
   "execution_count": 19,
   "metadata": {},
   "outputs": [
    {
     "data": {
      "text/plain": [
       "<AxesSubplot:title={'center':'Mice Count per Treatment'}, xlabel='Drug Regimen', ylabel='Mice Count'>"
      ]
     },
     "execution_count": 19,
     "metadata": {},
     "output_type": "execute_result"
    },
    {
     "data": {
      "image/png": "[encoded data removed]",
      "text/plain": [
       "<Figure size 432x288 with 1 Axes>"
      ]
     },
     "metadata": {
      "needs_background": "light"
     },
     "output_type": "display_data"
    }
   ],
   "source": [
    "mouse_cleaned.groupby('Drug Regimen').count()[\"Mouse ID\"].plot(kind='bar', legend =False, title=\"Mice Count per Treatment\", ylabel = \"Mice Count\")\n"
   ]
  },
  {
   "cell_type": "code",
   "execution_count": 20,
   "metadata": {},
   "outputs": [
    {
     "data": {
      "text/plain": [
       "[230, 178, 178, 188, 186, 181, 156, 228, 181, 182]"
      ]
     },
     "execution_count": 20,
     "metadata": {},
     "output_type": "execute_result"
    }
   ],
   "source": [
    "# Generate a bar plot showing the total number of measurements taken on each drug regimen using pyplot.\n",
    "mice_list =(mouse_cleaned.groupby([\"Drug Regimen\"])[\"Mouse ID\"].count()).tolist()\n",
    "mice_list"
   ]
  },
  {
   "cell_type": "markdown",
   "metadata": {},
   "source": [
    "## Measurements For Each Drug Regimen: PyPlot"
   ]
  },
  {
   "cell_type": "code",
   "execution_count": 21,
   "metadata": {},
   "outputs": [
    {
     "data": {
      "text/plain": [
       "Text(0, 0.5, 'Mice Count')"
      ]
     },
     "execution_count": 21,
     "metadata": {},
     "output_type": "execute_result"
    },
    {
     "data": {
      "image/png": "[encoded data removed]",
      "text/plain": [
       "<Figure size 432x288 with 1 Axes>"
      ]
     },
     "metadata": {
      "needs_background": "light"
     },
     "output_type": "display_data"
    }
   ],
   "source": [
    "regimen_num = np.arange(len(count_regimen))\n",
    "#regimen_num\n",
    "\n",
    "plt.bar(regimen_num, mice_list, color='b', alpha=0.8, align='center')\n",
    "\n",
    "tick_locations = [value for value in regimen_num]\n",
    "\n",
    "plt.xticks(tick_locations, ['Capomulin', 'Ceftamin', 'Infubinol', 'Ketapril', 'Naftisol', 'Placebo', 'Propriva', 'Ramicane', 'Stelasyn', 'Zoniferol'],  rotation='vertical')\n",
    "\n",
    "plt.title(\"Mice Count per Treatment\")\n",
    "plt.xlabel(\"Drug Regimen\")\n",
    "plt.ylabel(\"Mice Count\")"
   ]
  },
  {
   "cell_type": "markdown",
   "metadata": {},
   "source": [
    "## Gender Distribution of Mice Studied: Pandas"
   ]
  },
  {
   "cell_type": "code",
   "execution_count": 22,
   "metadata": {},
   "outputs": [
    {
     "data": {
      "text/plain": [
       "<AxesSubplot:title={'center':'Gender Breakdown of Mice'}, ylabel='Mouse ID'>"
      ]
     },
     "execution_count": 22,
     "metadata": {},
     "output_type": "execute_result"
    },
    {
     "data": {
      "image/png": "[encoded data removed]",
      "text/plain": [
       "<Figure size 432x288 with 1 Axes>"
      ]
     },
     "metadata": {},
     "output_type": "display_data"
    }
   ],
   "source": [
    "# Generate a pie plot showing the distribution of female versus male mice using pandas\n",
    "\n",
    "mouse_cleaned.groupby('Sex').count()[\"Mouse ID\"].plot(kind='pie', title=\"Gender Breakdown of Mice\", autopct=\"%1.1f%%\", shadow=True, startangle=140)"
   ]
  },
  {
   "cell_type": "markdown",
   "metadata": {},
   "source": [
    "## Gender Distribution of Mice Studied: PyPlot"
   ]
  },
  {
   "cell_type": "code",
   "execution_count": 23,
   "metadata": {},
   "outputs": [
    {
     "data": {
      "text/plain": [
       "Sex\n",
       "Female    930\n",
       "Male      958\n",
       "Name: Mouse ID, dtype: int64"
      ]
     },
     "execution_count": 23,
     "metadata": {},
     "output_type": "execute_result"
    }
   ],
   "source": [
    "# Generate a pie plot showing the distribution of female versus male mice using pyplot\n",
    "gender = mouse_cleaned.groupby(['Sex']).count()['Mouse ID']\n",
    "gender"
   ]
  },
  {
   "cell_type": "code",
   "execution_count": 24,
   "metadata": {},
   "outputs": [
    {
     "data": {
      "text/plain": [
       "Text(0.5, 1.0, 'Gender Breakdown of Mice')"
      ]
     },
     "execution_count": 24,
     "metadata": {},
     "output_type": "execute_result"
    },
    {
     "data": {
      "image/png": "[encoded data removed]",
      "text/plain": [
       "<Figure size 432x288 with 1 Axes>"
      ]
     },
     "metadata": {},
     "output_type": "display_data"
    }
   ],
   "source": [
    "colors = [\"coral\",\"lightblue\"]\n",
    "labels = [\"Female\", \"Male\"]\n",
    "\n",
    "plt.pie(gender, labels = labels, colors=colors, autopct=\"%1.1f%%\", shadow=True, startangle=140)\n",
    "\n",
    "plt.axis(\"equal\")\n",
    "plt.title(\"Gender Breakdown of Mice\")"
   ]
  },
  {
   "cell_type": "code",
   "execution_count": 25,
   "metadata": {},
   "outputs": [],
   "source": [
    "# Calculate the final tumor volume of each mouse across four of the treatmentregimens:  \n",
    "# Capomulin, Ramicane, Infubinol, and Ceftamin\n",
    "# Start by getting the last (greatest) timepoint for each mouse\n",
    "capomulin = mouse_cleaned.loc[mouse_cleaned[\"Drug Regimen\"] == \"Capomulin\",:]\n",
    "ramicane = mouse_cleaned.loc[mouse_cleaned[\"Drug Regimen\"] == \"Ramicane\", :]\n",
    "infubinol = mouse_cleaned.loc[mouse_cleaned[\"Drug Regimen\"] == \"Infubinol\", :]\n",
    "ceftamin = mouse_cleaned.loc[mouse_cleaned[\"Drug Regimen\"] == \"Ceftamin\", :]"
   ]
  },
  {
   "cell_type": "code",
   "execution_count": 26,
   "metadata": {},
   "outputs": [],
   "source": [
    "# Start by getting the last (greatest) timepoint for each mouse\n",
    "capomulin_greatest = capomulin.groupby('Mouse ID').max()['Timepoint']\n",
    "capomulin_tumor_volume = pd.DataFrame(capomulin_greatest)\n",
    "capomulin_combined = pd.merge(capomulin_tumor_volume, mouse_cleaned, on=(\"Mouse ID\",\"Timepoint\"),how=\"left\")\n",
    "#capomulin_combined"
   ]
  },
  {
   "cell_type": "code",
   "execution_count": 27,
   "metadata": {},
   "outputs": [],
   "source": [
    "ramicane_greatest = ramicane.groupby('Mouse ID').max()['Timepoint']\n",
    "ramicane_tumor_volume = pd.DataFrame(ramicane_greatest)\n",
    "ramicane_merge = pd.merge(ramicane_tumor_volume, mouse_cleaned, on=(\"Mouse ID\",\"Timepoint\"),how=\"left\")\n",
    "#ramicane_merge"
   ]
  },
  {
   "cell_type": "code",
   "execution_count": 28,
   "metadata": {},
   "outputs": [],
   "source": [
    "infubinol_greatest = infubinol.groupby('Mouse ID').max()['Timepoint']\n",
    "infubinol_tumor_volume = pd.DataFrame(infubinol_greatest)\n",
    "infubinol_merge = pd.merge(infubinol_tumor_volume, mouse_cleaned, on=(\"Mouse ID\",\"Timepoint\"),how=\"left\")\n",
    "#infubinol_merge"
   ]
  },
  {
   "cell_type": "code",
   "execution_count": 29,
   "metadata": {},
   "outputs": [],
   "source": [
    "ceftamin_greatest = ceftamin.groupby('Mouse ID').max()['Timepoint']\n",
    "ceftamin_tumor_volume = pd.DataFrame(ceftamin_greatest)\n",
    "ceftamin_merge = pd.merge(ceftamin_tumor_volume, mouse_cleaned, on=(\"Mouse ID\",\"Timepoint\"),how=\"left\")\n",
    "#ceftamin_merge"
   ]
  },
  {
   "cell_type": "markdown",
   "metadata": {},
   "source": [
    "## Tumor Volume for Ceftamin, Ramicane, Capomulin, and Infubinol at Last Measurment"
   ]
  },
  {
   "cell_type": "code",
   "execution_count": 30,
   "metadata": {},
   "outputs": [
    {
     "data": {
      "text/html": [
       "<div>\n",
       "<style scoped>\n",
       "    .dataframe tbody tr th:only-of-type {\n",
       "        vertical-align: middle;\n",
       "    }\n",
       "\n",
       "    .dataframe tbody tr th {\n",
       "        vertical-align: top;\n",
       "    }\n",
       "\n",
       "    .dataframe thead th {\n",
       "        text-align: right;\n",
       "    }\n",
       "</style>\n",
       "<table border=\"1\" class=\"dataframe\">\n",
       "  <thead>\n",
       "    <tr style=\"text-align: right;\">\n",
       "      <th></th>\n",
       "      <th>Mouse ID</th>\n",
       "      <th>Timepoint</th>\n",
       "      <th>Drug Regimen</th>\n",
       "      <th>Sex</th>\n",
       "      <th>Age_months</th>\n",
       "      <th>Weight (g)</th>\n",
       "      <th>Tumor Volume (mm3)</th>\n",
       "      <th>Metastatic Sites</th>\n",
       "    </tr>\n",
       "  </thead>\n",
       "  <tbody>\n",
       "    <tr>\n",
       "      <th>0</th>\n",
       "      <td>b128</td>\n",
       "      <td>45</td>\n",
       "      <td>Capomulin</td>\n",
       "      <td>Female</td>\n",
       "      <td>9</td>\n",
       "      <td>22</td>\n",
       "      <td>38.982878</td>\n",
       "      <td>2</td>\n",
       "    </tr>\n",
       "    <tr>\n",
       "      <th>1</th>\n",
       "      <td>b742</td>\n",
       "      <td>45</td>\n",
       "      <td>Capomulin</td>\n",
       "      <td>Male</td>\n",
       "      <td>7</td>\n",
       "      <td>21</td>\n",
       "      <td>38.939633</td>\n",
       "      <td>0</td>\n",
       "    </tr>\n",
       "    <tr>\n",
       "      <th>2</th>\n",
       "      <td>f966</td>\n",
       "      <td>20</td>\n",
       "      <td>Capomulin</td>\n",
       "      <td>Male</td>\n",
       "      <td>16</td>\n",
       "      <td>17</td>\n",
       "      <td>30.485985</td>\n",
       "      <td>0</td>\n",
       "    </tr>\n",
       "    <tr>\n",
       "      <th>3</th>\n",
       "      <td>g288</td>\n",
       "      <td>45</td>\n",
       "      <td>Capomulin</td>\n",
       "      <td>Male</td>\n",
       "      <td>3</td>\n",
       "      <td>19</td>\n",
       "      <td>37.074024</td>\n",
       "      <td>1</td>\n",
       "    </tr>\n",
       "    <tr>\n",
       "      <th>4</th>\n",
       "      <td>g316</td>\n",
       "      <td>45</td>\n",
       "      <td>Capomulin</td>\n",
       "      <td>Female</td>\n",
       "      <td>22</td>\n",
       "      <td>22</td>\n",
       "      <td>40.159220</td>\n",
       "      <td>2</td>\n",
       "    </tr>\n",
       "    <tr>\n",
       "      <th>...</th>\n",
       "      <td>...</td>\n",
       "      <td>...</td>\n",
       "      <td>...</td>\n",
       "      <td>...</td>\n",
       "      <td>...</td>\n",
       "      <td>...</td>\n",
       "      <td>...</td>\n",
       "      <td>...</td>\n",
       "    </tr>\n",
       "    <tr>\n",
       "      <th>95</th>\n",
       "      <td>s508</td>\n",
       "      <td>45</td>\n",
       "      <td>Ramicane</td>\n",
       "      <td>Male</td>\n",
       "      <td>1</td>\n",
       "      <td>17</td>\n",
       "      <td>30.276232</td>\n",
       "      <td>0</td>\n",
       "    </tr>\n",
       "    <tr>\n",
       "      <th>96</th>\n",
       "      <td>u196</td>\n",
       "      <td>45</td>\n",
       "      <td>Ramicane</td>\n",
       "      <td>Male</td>\n",
       "      <td>18</td>\n",
       "      <td>25</td>\n",
       "      <td>40.667713</td>\n",
       "      <td>3</td>\n",
       "    </tr>\n",
       "    <tr>\n",
       "      <th>97</th>\n",
       "      <td>w678</td>\n",
       "      <td>5</td>\n",
       "      <td>Ramicane</td>\n",
       "      <td>Female</td>\n",
       "      <td>5</td>\n",
       "      <td>24</td>\n",
       "      <td>43.166373</td>\n",
       "      <td>0</td>\n",
       "    </tr>\n",
       "    <tr>\n",
       "      <th>98</th>\n",
       "      <td>y449</td>\n",
       "      <td>15</td>\n",
       "      <td>Ramicane</td>\n",
       "      <td>Male</td>\n",
       "      <td>19</td>\n",
       "      <td>24</td>\n",
       "      <td>44.183451</td>\n",
       "      <td>0</td>\n",
       "    </tr>\n",
       "    <tr>\n",
       "      <th>99</th>\n",
       "      <td>z578</td>\n",
       "      <td>45</td>\n",
       "      <td>Ramicane</td>\n",
       "      <td>Male</td>\n",
       "      <td>11</td>\n",
       "      <td>16</td>\n",
       "      <td>30.638696</td>\n",
       "      <td>0</td>\n",
       "    </tr>\n",
       "  </tbody>\n",
       "</table>\n",
       "<p>100 rows × 8 columns</p>\n",
       "</div>"
      ],
      "text/plain": [
       "   Mouse ID  Timepoint Drug Regimen     Sex  Age_months  Weight (g)  \\\n",
       "0      b128         45    Capomulin  Female           9          22   \n",
       "1      b742         45    Capomulin    Male           7          21   \n",
       "2      f966         20    Capomulin    Male          16          17   \n",
       "3      g288         45    Capomulin    Male           3          19   \n",
       "4      g316         45    Capomulin  Female          22          22   \n",
       "..      ...        ...          ...     ...         ...         ...   \n",
       "95     s508         45     Ramicane    Male           1          17   \n",
       "96     u196         45     Ramicane    Male          18          25   \n",
       "97     w678          5     Ramicane  Female           5          24   \n",
       "98     y449         15     Ramicane    Male          19          24   \n",
       "99     z578         45     Ramicane    Male          11          16   \n",
       "\n",
       "    Tumor Volume (mm3)  Metastatic Sites  \n",
       "0            38.982878                 2  \n",
       "1            38.939633                 0  \n",
       "2            30.485985                 0  \n",
       "3            37.074024                 1  \n",
       "4            40.159220                 2  \n",
       "..                 ...               ...  \n",
       "95           30.276232                 0  \n",
       "96           40.667713                 3  \n",
       "97           43.166373                 0  \n",
       "98           44.183451                 0  \n",
       "99           30.638696                 0  \n",
       "\n",
       "[100 rows x 8 columns]"
      ]
     },
     "execution_count": 30,
     "metadata": {},
     "output_type": "execute_result"
    }
   ],
   "source": [
    "# Merge this group df with the original dataframe to get the tumor volume at the last timepoint\n",
    "\n",
    "final_tumor = pd.merge(capomulin_combined, ceftamin_merge, how='outer')\n",
    "final_tumor = pd.merge(final_tumor, infubinol_merge, how='outer')\n",
    "final_tumor = pd.merge(final_tumor, ramicane_merge, how='outer')\n",
    "final_tumor"
   ]
  },
  {
   "cell_type": "markdown",
   "metadata": {},
   "source": [
    "## Identify Potential Outliers in Capomulin, Ramicane, Infubinol, and Ceftamin Regimens"
   ]
  },
  {
   "cell_type": "code",
   "execution_count": 31,
   "metadata": {},
   "outputs": [
    {
     "name": "stdout",
     "output_type": "stream",
     "text": [
      "Capomulin Regimen: The average tumor volume is 36.67mm3.\n",
      "Outliers for the tumor volume would fall below 20.7mm3 or fall above 51.83mm3.\n",
      "There are 0 outliers for the Capomulin regimen.\n",
      "----------------------------------------------------------\n",
      "Ramicane Regimen: The average tumor volume is 36.19mm3.\n",
      "Outliers for the tumor volume would fall below 17.91mm3 or fall above 54.31mm3.\n",
      "There are 0 outliers for the Ramicane regimen.\n",
      "----------------------------------------------------------\n",
      "Infubinol Regimen: The average tumor volume is 58.18mm3.\n",
      "Outliers for the tumor volume would fall below 36.83mm3 or fall above 82.74mm3.\n",
      "There are 1 outliers for the Infubinol regimen.\n",
      "The outlier tumor volume is 36.32mm3\n",
      "----------------------------------------------------------\n",
      "Ceftamin Regimen: The average tumor volume is 57.75mm3.\n",
      "Outliers for the tumor volume would fall below 25.36mm3 or fall above 87.67mm3.\n",
      "There are 0 outliers for the Ceftamin regimen.\n",
      "----------------------------------------------------------\n"
     ]
    }
   ],
   "source": [
    "# Put treatments into a list for for loop (and later for plot labels)\n",
    "regimen = ['Capomulin', 'Ramicane', 'Infubinol', 'Ceftamin']\n",
    "\n",
    "# Create empty list to fill with tumor vol data (for plotting)\n",
    "final_tumor_vol_list = []\n",
    "\n",
    "# Calculate the IQR and quantitatively determine if there are any potential outliers.\n",
    "for drug in regimen:\n",
    "    \n",
    "    # Locate the rows which contain mice on each drug and get the tumor volumes\n",
    "    final_tumor_vol = final_tumor.loc[final_tumor['Drug Regimen'] == drug, 'Tumor Volume (mm3)']\n",
    "    \n",
    "    # add subset to empty list \n",
    "    final_tumor_vol_list.append(final_tumor_vol)\n",
    "    \n",
    "    #Upper and lower quartiles, mean, iqr\n",
    "    quartiles = final_tumor_vol.quantile([0.25,0.5,0.75])\n",
    "    lowerq = quartiles[0.25]\n",
    "    upperq = quartiles[0.75]\n",
    "    mean = final_tumor_vol.mean()\n",
    "    iqr = upperq-lowerq    \n",
    "    \n",
    "    #upper and lower bounds\n",
    "    lower_bound = lowerq - (1.5*iqr)\n",
    "    upper_bound = upperq + (1.5*iqr)\n",
    "\n",
    "    # Determine outliers using upper and lower bounds\n",
    "    outliers = final_tumor_vol.loc[(final_tumor_vol < lower_bound) \n",
    "                  | (final_tumor_vol > upper_bound)]\n",
    "    \n",
    "    # Print out the result\n",
    "    print(f\"{drug} Regimen: The average tumor volume is {round(mean,2)}mm3.\")\n",
    "    print(f\"Outliers for the tumor volume would fall below {round(lower_bound,2)}mm3 or fall above {round(upper_bound,2)}mm3.\")\n",
    "    print(f\"There are {outliers.count()} outliers for the {drug} regimen.\")\n",
    "\n",
    "    if outliers.count() > 0:\n",
    "        for i in outliers.index:\n",
    "            print(f'The outlier tumor volume is {round(outliers[i], 2)}mm3')\n",
    "    print('----------------------------------------------------------')"
   ]
  },
  {
   "cell_type": "markdown",
   "metadata": {},
   "source": [
    "## Box and Whisker Plot of Final Tumor Volume for Capomulin, Ramicane, Infubinol, and Ceftamin Regimens Including Outliers Idenified"
   ]
  },
  {
   "cell_type": "code",
   "execution_count": 32,
   "metadata": {},
   "outputs": [
    {
     "data": {
      "text/plain": [
       "Text(0, 0.5, 'Final Tumor Volume (mm3)')"
      ]
     },
     "execution_count": 32,
     "metadata": {},
     "output_type": "execute_result"
    },
    {
     "data": {
      "image/png": "[encoded data removed]",
      "text/plain": [
       "<Figure size 432x288 with 1 Axes>"
      ]
     },
     "metadata": {
      "needs_background": "light"
     },
     "output_type": "display_data"
    }
   ],
   "source": [
    "\n",
    "# Generate a box plot of the final tumor volume of each mouse across four regimens of interest\n",
    "fig1, final_tumor_plot = plt.subplots()\n",
    "final_tumor_plot.boxplot(final_tumor_vol_list, labels=regimen, flierprops={'markerfacecolor':'r'})\n",
    "\n",
    "final_tumor_plot.set_title('Final Tumor Volume for Four Drug Regimens', fontweight='bold')\n",
    "final_tumor_plot.set_xlabel('Drug Regimen')\n",
    "final_tumor_plot.set_ylabel('Final Tumor Volume (mm3)')\n"
   ]
  },
  {
   "cell_type": "markdown",
   "metadata": {},
   "source": [
    "## Tumor Volume over Time for Mouse S185"
   ]
  },
  {
   "cell_type": "code",
   "execution_count": 33,
   "metadata": {},
   "outputs": [
    {
     "data": {
      "text/plain": [
       "Text(0.5, 1.0, 'Mouse S185 Tumor Volume over Time')"
      ]
     },
     "execution_count": 33,
     "metadata": {},
     "output_type": "execute_result"
    },
    {
     "data": {
      "image/png": "[encoded data removed]",
      "text/plain": [
       "<Figure size 432x288 with 1 Axes>"
      ]
     },
     "metadata": {
      "needs_background": "light"
     },
     "output_type": "display_data"
    }
   ],
   "source": [
    "# Generate a line plot of tumor volume vs. time point for a mouse treated with Capomulin\n",
    "#capomulin\n",
    "\n",
    "mouse_id = 's185'\n",
    "mouse_data = capomulin.loc[capomulin['Mouse ID'] == mouse_id]\n",
    "\n",
    "# Generate a line plot\n",
    "plt.plot(mouse_data['Timepoint'], mouse_data['Tumor Volume (mm3)'], marker='x', color='green')\n",
    "plt.xlabel(\"Timepoint (days)\")\n",
    "plt.ylabel(\"Tumor Volume (mm3)\")\n",
    "plt.title(\"Mouse S185 Tumor Volume over Time\")\n"
   ]
  },
  {
   "cell_type": "markdown",
   "metadata": {},
   "source": [
    "## Average Tumor Volume Compared to Average Mouse Weight"
   ]
  },
  {
   "cell_type": "code",
   "execution_count": 34,
   "metadata": {},
   "outputs": [
    {
     "data": {
      "text/plain": [
       "Text(0, 0.5, 'Tumor Volume (mm3)')"
      ]
     },
     "execution_count": 34,
     "metadata": {},
     "output_type": "execute_result"
    },
    {
     "data": {
      "image/png": "[encoded data removed]",
      "text/plain": [
       "<Figure size 432x288 with 1 Axes>"
      ]
     },
     "metadata": {
      "needs_background": "light"
     },
     "output_type": "display_data"
    }
   ],
   "source": [
    "# Generate a scatter plot of average tumor volume vs. mouse weight for the Capomulin regimen\n",
    "\n",
    "avg_weight = capomulin_combined['Weight (g)']\n",
    "avg_tumor = capomulin_combined['Tumor Volume (mm3)']\n",
    "\n",
    "\n",
    "plt.scatter(avg_weight,avg_tumor, color=\"green\")\n",
    "plt.title('Average Mouse Weight in Relation to Tumor Volume')\n",
    "plt.xlabel('Weight (g)')\n",
    "plt.ylabel('Tumor Volume (mm3)')"
   ]
  },
  {
   "cell_type": "markdown",
   "metadata": {},
   "source": [
    "## Correlation and Regression"
   ]
  },
  {
   "cell_type": "code",
   "execution_count": 35,
   "metadata": {},
   "outputs": [
    {
     "name": "stdout",
     "output_type": "stream",
     "text": [
      "slope: 1.750468228958504\n",
      "intercept: 1.4481469525549002\n",
      "rvalue: 0.8767060403658119\n",
      "rsquared value: 0.7686134812139006\n",
      "stderr:0.20026513236453639\n",
      "y = 1.75x + 1.45\n"
     ]
    }
   ],
   "source": [
    "# Calculate the correlation coefficient and linear regression model \n",
    "# for mouse weight and average tumor volume for the Capomulin regimen\n",
    "(slope, intercept, rvalue, pvalue, stderr) = st.linregress(avg_weight, avg_tumor)\n",
    "regress_values = avg_weight * slope + intercept\n",
    "\n",
    "print(f'slope: {slope}')\n",
    "print(f'intercept: {intercept}')\n",
    "print(f'rvalue: {rvalue}')\n",
    "print(f'rsquared value: {rvalue**2}')\n",
    "print(f\"stderr:{stderr}\")\n",
    "\n",
    "line_eq = \"y = \" + str(round(slope,2)) + \"x + \" + str(round(intercept,2))\n",
    "\n",
    "print(line_eq)"
   ]
  },
  {
   "cell_type": "code",
   "execution_count": 36,
   "metadata": {},
   "outputs": [
    {
     "name": "stdout",
     "output_type": "stream",
     "text": [
      "line equation: y = 1.75x + 1.45\n",
      "r-squared: 0.7686134812139006\n"
     ]
    },
    {
     "data": {
      "image/png": "[encoded data removed]",
      "text/plain": [
       "<Figure size 432x288 with 1 Axes>"
      ]
     },
     "metadata": {
      "needs_background": "light"
     },
     "output_type": "display_data"
    }
   ],
   "source": [
    "avg_weight = capomulin_combined['Weight (g)']\n",
    "avg_tumor = capomulin_combined['Tumor Volume (mm3)']\n",
    "\n",
    "\n",
    "plt.scatter(avg_weight,avg_tumor, color=\"green\")\n",
    "plt.title('Average Mouse Weight in Relation to Tumor Volume')\n",
    "plt.xlabel('Weight (g)')\n",
    "plt.ylabel('Tumor Volume (mm3)')\n",
    "plt.plot(avg_weight, regress_values, color='r', alpha=0.7)\n",
    "\n",
    "# Plot the Annotation in the graph \n",
    "print(f'line equation: {line_eq}')\n",
    "print(f'r-squared: {rvalue**2}')\n"
   ]
  }
 ],
 "metadata": {
  "anaconda-cloud": {},
  "kernelspec": {
   "display_name": "Python 3",
   "language": "python",
   "name": "python3"
  },
  "language_info": {
   "codemirror_mode": {
    "name": "ipython",
    "version": 3
   },
   "file_extension": ".py",
   "mimetype": "text/x-python",
   "name": "python",
   "nbconvert_exporter": "python",
   "pygments_lexer": "ipython3",
   "version": "3.8.5"
  }
 },
 "nbformat": 4,
 "nbformat_minor": 4
}
